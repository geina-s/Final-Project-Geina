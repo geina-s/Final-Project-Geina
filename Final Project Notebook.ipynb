{
 "cells": [
  {
   "cell_type": "markdown",
   "metadata": {},
   "source": [
    "# Final Project Notebook"
   ]
  },
  {
   "cell_type": "markdown",
   "metadata": {},
   "source": [
    "We are creating a rating of the best neighborhood in pittsburgh according to number of parks, number of smart trash containers and -------"
   ]
  },
  {
   "cell_type": "markdown",
   "metadata": {},
   "source": [
    "\n",
    "# Intro\n",
    " Introduce the project, your approach, talk about the process of how you came up with the metric and some alternatives you may have explored.\n",
    " We wanted to focus on sustanability in pittsburgh since there have been many intiatives in the past 10 years that explored how pittsburgh\n",
    " can be a more economicly consious city. As we were scrolling through the data, we looked for data sets that included neighborhoods so we can compare and contrast using the same variable.  "
   ]
  },
  {
   "cell_type": "markdown",
   "metadata": {},
   "source": [
    "# Metric\n",
    "Describe your metric, what features are you measuring. What datasets are you using?\n",
    "-Our metric is most envirentally consious. \n",
    "-We have 3 metrics, number of parks, numer of smart trash containers, and the "
   ]
  },
  {
   "cell_type": "markdown",
   "metadata": {},
   "source": [
    "## The Best Neighborhood:\n",
    "    Apply the metric from the previous section to determine the best neighborhood in Pittsburgh. \n",
    "    Beyond just executing code, provide a narrative about why you think this is the best neighborhood.\n",
    "    Incorporate a data visualization, perhaps to rank all of the neighborhoods or show a neighborhood’s best-ness over time. The key is to make a data driven argument."
   ]
  },
  {
   "cell_type": "markdown",
   "metadata": {},
   "source": [
    "# Conclusion\n",
    "    Reflect on how the data driven determination of “best neighborhood” is the same or different from your personal favorite \n",
    "    neighborhood. Each member of the group should write their own response to this."
   ]
  },
  {
   "cell_type": "code",
   "execution_count": null,
   "metadata": {},
   "outputs": [],
   "source": [
    "- We will standardize the data, by percentiles top 25%, "
   ]
  }
 ],
 "metadata": {
  "kernelspec": {
   "display_name": "Python 3",
   "language": "python",
   "name": "python3"
  },
  "language_info": {
   "codemirror_mode": {
    "name": "ipython",
    "version": 3
   },
   "file_extension": ".py",
   "mimetype": "text/x-python",
   "name": "python",
   "nbconvert_exporter": "python",
   "pygments_lexer": "ipython3",
   "version": "3.8.3"
  }
 },
 "nbformat": 4,
 "nbformat_minor": 4
}

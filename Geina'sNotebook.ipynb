{
 "cells": [
  {
   "cell_type": "markdown",
   "metadata": {},
   "source": [
    "## **Geina's Notebook**\n",
    "#### Metric: Amount of green space and availability of nature to people in the neighborhood\n",
    "##### Data: Number of parks in each neighborhood"
   ]
  },
  {
   "cell_type": "markdown",
   "metadata": {},
   "source": [
    "This code imports pandas and reads in my parks spreadsheet."
   ]
  },
  {
   "cell_type": "code",
   "execution_count": null,
   "metadata": {},
   "outputs": [],
   "source": [
    "import pandas as pd\n",
    "parks = pd.read_csv(\"parks.csv\")"
   ]
  },
  {
   "cell_type": "markdown",
   "metadata": {},
   "source": [
    "This code creates a dictionary that contains all the neighborhood names, with a vlaue of the number of parks in each neighborhood. It then puts the neighborhoods in order of most to least amount of parks."
   ]
  },
  {
   "cell_type": "code",
   "execution_count": null,
   "metadata": {},
   "outputs": [],
   "source": [
    "neighborhoodParks = dict()\n",
    "for index, row in parks.iterrows():\n",
    "    neighborhood = row['neighborhood']\n",
    "    if(neighborhood not in neighborhoodParks):\n",
    "        neighborhoodParks[neighborhood] = 1\n",
    "    else:\n",
    "        neighborhoodParks[neighborhood] += 1\n",
    "sortedDict = dict(sorted(neighborhoodParks.items(), key=lambda x:x[1]))\n",
    "print(sortedDict)"
   ]
  },
  {
   "cell_type": "markdown",
   "metadata": {},
   "source": [
    "This code creates a bar graph with the neighborhoods with more than two parks and shows the number of parks in each of the neighborhoods."
   ]
  },
  {
   "cell_type": "code",
<<<<<<< HEAD
   "execution_count": 1,
   "metadata": {},
   "outputs": [
    {
     "ename": "NameError",
     "evalue": "name 'neighborhood_counts' is not defined",
     "output_type": "error",
     "traceback": [
      "\u001b[0;31m---------------------------------------------------------------------------\u001b[0m",
      "\u001b[0;31mNameError\u001b[0m                                 Traceback (most recent call last)",
      "\u001b[0;32m<ipython-input-1-dd4ee9e3932f>\u001b[0m in \u001b[0;36m<module>\u001b[0;34m\u001b[0m\n\u001b[1;32m      1\u001b[0m \u001b[0;31m# Get the top 25 neighborhoods with most parks\u001b[0m\u001b[0;34m\u001b[0m\u001b[0;34m\u001b[0m\u001b[0;34m\u001b[0m\u001b[0m\n\u001b[0;32m----> 2\u001b[0;31m \u001b[0mtop25_neighborhoods\u001b[0m \u001b[0;34m=\u001b[0m \u001b[0mneighborhood_counts\u001b[0m\u001b[0;34m.\u001b[0m\u001b[0mhead\u001b[0m\u001b[0;34m(\u001b[0m\u001b[0;36m34\u001b[0m\u001b[0;34m)\u001b[0m\u001b[0;34m\u001b[0m\u001b[0;34m\u001b[0m\u001b[0m\n\u001b[0m\u001b[1;32m      3\u001b[0m \u001b[0;34m\u001b[0m\u001b[0m\n\u001b[1;32m      4\u001b[0m \u001b[0;31m# Create a bar graph to visualize the top 10 neighborhoods with the most trash containers\u001b[0m\u001b[0;34m\u001b[0m\u001b[0;34m\u001b[0m\u001b[0;34m\u001b[0m\u001b[0m\n\u001b[1;32m      5\u001b[0m \u001b[0mplt\u001b[0m\u001b[0;34m.\u001b[0m\u001b[0mbar\u001b[0m\u001b[0;34m(\u001b[0m\u001b[0mtop25_neighborhoods\u001b[0m\u001b[0;34m.\u001b[0m\u001b[0mindex\u001b[0m\u001b[0;34m,\u001b[0m \u001b[0mtop25_neighborhoods\u001b[0m\u001b[0;34m.\u001b[0m\u001b[0mvalues\u001b[0m\u001b[0;34m)\u001b[0m\u001b[0;34m\u001b[0m\u001b[0;34m\u001b[0m\u001b[0m\n",
      "\u001b[0;31mNameError\u001b[0m: name 'neighborhood_counts' is not defined"
     ]
    }
   ],
=======
   "execution_count": null,
   "metadata": {},
   "outputs": [],
>>>>>>> d477e04340bfe89d1513dc0ea63bd232c7e20a46
   "source": [
    "import pandas as pd\n",
    "import matplotlib.pyplot as plt\n",
    "\n",
    "# Get the top half\n",
    "neighborhood_counts = parks['neighborhood'].value_counts()\n",
    "topNhood = neighborhood_counts.head(34)\n",
    "\n",
    "# Create a bar graph to visualize the top 10 neighborhoods with the most trash containers\n",
    "plt.bar(topNhood.index, topNhood.values)\n",
    "plt.xlabel('Neighborhood')\n",
    "plt.ylabel('Park Count')\n",
    "plt.title('Neighborhoods With More Than 2 Parks')\n",
    "plt.xticks(rotation='vertical')\n",
    "plt.tight_layout()\n",
    "plt.show()"
   ]
  },
  {
   "cell_type": "markdown",
   "metadata": {},
   "source": [
    "This code creates a bar graph with the neighborhoods with less than two parks and shows the number of parks in each of the neighborhoods."
   ]
  },
  {
   "cell_type": "code",
   "execution_count": null,
   "metadata": {},
   "outputs": [],
   "source": [
    "import pandas as pd\n",
    "import matplotlib.pyplot as plt\n",
    "# Get the bottom half\n",
    "neighborhood_counts = parks['neighborhood'].value_counts()\n",
    "top25_neighborhoods = neighborhood_counts.tail(39)\n",
    "\n",
    "# Create a bar graph to visualize the top 10 neighborhoods with the most trash containers\n",
    "plt.bar(top25_neighborhoods.index, top25_neighborhoods.values)\n",
    "plt.xlabel('Neighborhood')\n",
    "plt.ylabel('Trash Container Count')\n",
    "plt.title('Neighborhoods with 2 or Fewer Parks')\n",
    "plt.xticks(rotation='vertical')\n",
    "plt.tight_layout()\n",
    "plt.show()"
   ]
  },
  {
   "cell_type": "markdown",
   "metadata": {},
   "source": [
    "This is a bar graph that shows the top 10 neighborhoods with the most parks."
   ]
  },
  {
   "cell_type": "code",
   "execution_count": null,
   "metadata": {},
   "outputs": [],
   "source": [
    "import pandas as pd\n",
    "import matplotlib.pyplot as plt\n",
    "# Get the top 10 neighborhoods with most parks\n",
    "top10_neighborhoods = neighborhood_counts.head(10)\n",
    "\n",
    "# Create a bar graph to visualize the top 10 neighborhoods with the most trash containers\n",
    "plt.bar(top10_neighborhoods.index, top10_neighborhoods.values)\n",
    "plt.xlabel('Neighborhood')\n",
    "plt.ylabel('Trash Container Count')\n",
    "plt.title('Top 10 Neighborhoods with Most Trash Containers')\n",
    "plt.xticks(rotation='vertical')\n",
    "plt.tight_layout()\n",
    "plt.show()"
   ]
  },
  {
   "cell_type": "code",
   "execution_count": null,
   "metadata": {},
   "outputs": [],
   "source": [
    "scores = dict()\n",
    "for key in sortedDict:\n",
    "    if(sortedDict[key]==1):\n",
    "        scores[key] = 1\n",
    "    elif(sortedDict[key]<4):\n",
    "        scores[key] = 2\n",
    "    elif(sortedDict[key]<6):\n",
    "        scores[key] = 3\n",
    "    elif(sortedDict[key]<8):\n",
    "        scores[key] = 4\n",
    "    else:\n",
    "        scores[key] = 5\n",
    "\n",
    "sortedScores = dict(sorted(scores.items(), key=lambda x:x[1]))\n",
    "print(sortedScores)"
   ]
  },
  {
   "cell_type": "markdown",
   "metadata": {},
   "source": [
    "### Conclusion: \n",
    "East Liberty is the best neighborhood because it has the most parks (12 parks). It is followed by the Central Business District with 10 parks, and Beechview with 8 parks.\n",
    "Squirrel Hill is my personal favorite neighborhood. It has half the amount of parks as the \"best\" neighborhood according to this metric."
   ]
  }
 ],
 "metadata": {
  "kernelspec": {
   "display_name": "Python 3",
   "language": "python",
   "name": "python3"
  },
  "language_info": {
   "codemirror_mode": {
    "name": "ipython",
    "version": 3
   },
   "file_extension": ".py",
   "mimetype": "text/x-python",
   "name": "python",
   "nbconvert_exporter": "python",
   "pygments_lexer": "ipython3",
   "version": "3.8.3"
  }
 },
 "nbformat": 4,
 "nbformat_minor": 4
}
